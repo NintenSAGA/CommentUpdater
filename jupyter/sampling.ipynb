{
 "cells": [
  {
   "metadata": {
    "ExecuteTime": {
     "end_time": "2024-04-14T07:44:46.223817Z",
     "start_time": "2024-04-14T07:44:45.512978Z"
    }
   },
   "cell_type": "code",
   "source": [
    "import jsonlines\n",
    "import numpy as np\n",
    "import pandas as pd\n",
    "\n",
    "source_jsonl_ = '../data/raw/test_clean.jsonl'\n",
    "chosen_cases_json = '../result/evaluation/chosen_sample_ids.json'\n",
    "\n",
    "repo_dict_ = {}\n",
    "original_repo_names_ = []\n",
    "original_sample_ids_ = []\n",
    "\n",
    "with jsonlines.open(source_jsonl_) as reader_:\n",
    "    for obj_ in reader_:\n",
    "        full_name_ = obj_['full_name']\n",
    "        repo_dict_[full_name_] = repo_dict_.get(full_name_, 0) + 1\n",
    "        original_repo_names_.append(full_name_)\n",
    "        original_sample_ids_.append(obj_['sample_id'])\n",
    "\n",
    "# Assuming 'data' is a DataFrame containing your dataset with 'repo_name' and 'case_count' columns\n",
    "data = pd.DataFrame({\n",
    "    'repo_name': list(repo_dict_.keys()),\n",
    "    'case_count': list(repo_dict_.values())\n",
    "})\n",
    "original_dataset = pd.DataFrame({\n",
    "    'repo_name': list(original_repo_names_),\n",
    "    'sample_id': list(original_sample_ids_)\n",
    "})\n",
    "\n",
    "# Calculate the proportion of cases for each repository\n",
    "data['proportion'] = data['case_count'] / data['case_count'].sum()\n",
    "\n",
    "# Determine the number of cases to sample from each repository\n",
    "data['sample_size'] = (data['proportion'] * 1000).round().astype(int)\n",
    "\n",
    "# Adjust sample sizes to sum up to 1000\n",
    "while data['sample_size'].sum() < 1000:\n",
    "    diff = 1000 - data['sample_size'].sum()\n",
    "    indices = data.index\n",
    "    change_indices = np.random.choice(indices, abs(diff), replace=False)\n",
    "    data.loc[change_indices, 'sample_size'] += np.sign(diff)\n",
    "\n",
    "# Sample cases from each repository\n",
    "data['sample_size'] = data.apply(lambda r: min(r['sample_size'], r['case_count']), axis=1)\n",
    "selected_cases = pd.DataFrame()\n",
    "for _, row in data.iterrows():\n",
    "    repo_cases = original_dataset[original_dataset['repo_name'] == row['repo_name']]\n",
    "    selected_cases = pd.concat([selected_cases, repo_cases.sample(n=row['sample_size'], replace=False)],\n",
    "                               ignore_index=True)\n",
    "\n",
    "# 'selected_cases' now contains 1000 cases fairly representing the whole dataset\n",
    "selected_cases.to_json(chosen_cases_json, orient='records')\n"
   ],
   "id": "e068b1f57c44c7ad",
   "outputs": [],
   "execution_count": 26
  },
  {
   "metadata": {},
   "cell_type": "code",
   "outputs": [],
   "execution_count": null,
   "source": "generated_jsonl_ = '../result/candidates/candidates-20240407_154640.jsonl'\n",
   "id": "ef9c87635d3253a7"
  }
 ],
 "metadata": {
  "kernelspec": {
   "display_name": "Python 3",
   "language": "python",
   "name": "python3"
  },
  "language_info": {
   "codemirror_mode": {
    "name": "ipython",
    "version": 2
   },
   "file_extension": ".py",
   "mimetype": "text/x-python",
   "name": "python",
   "nbconvert_exporter": "python",
   "pygments_lexer": "ipython2",
   "version": "2.7.6"
  }
 },
 "nbformat": 4,
 "nbformat_minor": 5
}
