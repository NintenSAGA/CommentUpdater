{
 "cells": [
  {
   "cell_type": "markdown",
   "source": [
    "# Preprocess the dataset"
   ],
   "metadata": {
    "collapsed": false
   },
   "id": "9216d6cdf6baa59e"
  },
  {
   "cell_type": "code",
   "execution_count": 10,
   "id": "initial_id",
   "metadata": {
    "collapsed": true,
    "ExecuteTime": {
     "end_time": "2024-01-07T12:10:47.843776Z",
     "start_time": "2024-01-07T12:10:46.200192Z"
    }
   },
   "outputs": [],
   "source": [
    "import json\n",
    "import os\n",
    "\n",
    "nr_lines = int(input(\"Number of lines to process: \"))\n",
    "\n",
    "lines = []\n",
    "with open('../data/raw/test.jsonl', 'r') as f:\n",
    "    for line in f:\n",
    "        data = json.loads(line)\n",
    "        filtered = {key: data[key] for key in [\"sample_id\", \"full_name\", \"commit_id\", \"src_method\", \"dst_method\", \"src_javadoc\", \"dst_javadoc\"]}\n",
    "        output = json.dumps(filtered)\n",
    "        lines.append(output)\n",
    "        nr_lines -= 1\n",
    "        if nr_lines == 0:\n",
    "            break\n",
    "\n",
    "with open('../data/processed/test.jsonl', 'w+') as r:\n",
    "    r.write(os.linesep.join(lines))"
   ]
  }
 ],
 "metadata": {
  "kernelspec": {
   "display_name": "Python 3",
   "language": "python",
   "name": "python3"
  },
  "language_info": {
   "codemirror_mode": {
    "name": "ipython",
    "version": 2
   },
   "file_extension": ".py",
   "mimetype": "text/x-python",
   "name": "python",
   "nbconvert_exporter": "python",
   "pygments_lexer": "ipython2",
   "version": "2.7.6"
  }
 },
 "nbformat": 4,
 "nbformat_minor": 5
}
