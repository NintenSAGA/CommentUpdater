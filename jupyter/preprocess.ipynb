{
 "cells": [
  {
   "cell_type": "raw",
   "source": [],
   "metadata": {
    "collapsed": false
   },
   "id": "8f7d444db1c1f942"
  },
  {
   "cell_type": "code",
   "execution_count": 1,
   "id": "initial_id",
   "metadata": {
    "collapsed": true,
    "ExecuteTime": {
     "end_time": "2024-04-01T13:19:59.387674Z",
     "start_time": "2024-04-01T13:19:57.133253Z"
    }
   },
   "outputs": [],
   "source": [
    "from jsonlines import jsonlines\n",
    "\n",
    "with jsonlines.open('../data/raw/train_clean.jsonl') as reader:\n",
    "    with jsonlines.open('../data/processed/train_clean.jsonl', mode='w') as writer:\n",
    "        result = []\n",
    "        for parsed in reader:\n",
    "            writer.write({\n",
    "                'full_name': parsed['full_name'],\n",
    "                'src_desc': parsed['src_desc'],\n",
    "                'dst_desc': parsed['dst_desc']\n",
    "            })\n",
    "            "
   ]
  }
 ],
 "metadata": {
  "kernelspec": {
   "display_name": "Python 3",
   "language": "python",
   "name": "python3"
  },
  "language_info": {
   "codemirror_mode": {
    "name": "ipython",
    "version": 2
   },
   "file_extension": ".py",
   "mimetype": "text/x-python",
   "name": "python",
   "nbconvert_exporter": "python",
   "pygments_lexer": "ipython2",
   "version": "2.7.6"
  }
 },
 "nbformat": 4,
 "nbformat_minor": 5
}
