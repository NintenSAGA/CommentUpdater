{
 "cells": [
  {
   "cell_type": "code",
   "execution_count": 121,
   "outputs": [],
   "source": [
    "from langchain_core.exceptions import OutputParserException\n",
    "\n",
    "\n",
    "class Model:\n",
    "    def __init__(self, model_type):\n",
    "        self.model = Ollama(model=model_type)\n",
    "        self.response_schemas = [\n",
    "            ResponseSchema(name=\"explanation\", description=\"explain which part of the old comment should be modified.\"),\n",
    "            ResponseSchema(name=\"newComment\", description=\"the new comment\"),\n",
    "        ]\n",
    "        self.output_parser = StructuredOutputParser.from_response_schemas(self.response_schemas)\n",
    "        self.format_instructions = self.output_parser.get_format_instructions()\n",
    "        self.prompt = PromptTemplate(\n",
    "            template=\n",
    "            '''\n",
    "            Read the following Java method: ```{old_method}```\n",
    "            Read the following javadoc comment belonging to the method mentioned before: {old_comment}\n",
    "            Then the Java method was modified to ```{new_method}```\n",
    "            Please tell me how should the old comment be changed to fit the new method.\n",
    "            Output in json format.\n",
    "            {format_instructions}''',\n",
    "            input_variables=[\"old_method\", \"old_comment\", \"new_method\"],\n",
    "            partial_variables={\"format_instructions\": self.format_instructions},\n",
    "        )\n",
    "        self.chain = self.prompt | self.model | self.output_parser\n",
    "\n",
    "    def resolve(self, old_method, new_method, old_comment):\n",
    "        while True:\n",
    "            try:\n",
    "                return self.chain.invoke({\n",
    "                    'old_method': old_method,\n",
    "                    'new_method': new_method,\n",
    "                    'old_comment': old_comment\n",
    "                })\n",
    "            except OutputParserException as e:\n",
    "                print(e)\n",
    "    "
   ],
   "metadata": {
    "collapsed": false,
    "ExecuteTime": {
     "end_time": "2024-01-07T12:27:28.517499Z",
     "start_time": "2024-01-07T12:27:28.513458Z"
    }
   },
   "id": "6fc35b7193b620cf"
  },
  {
   "cell_type": "code",
   "execution_count": 123,
   "outputs": [
    {
     "name": "stdout",
     "output_type": "stream",
     "text": [
      "{'explanation': 'Configure a sslConfig.Builder for the server using the legacy configuration', 'newComment': 'Set up an SSLConfig.Builder with the specified settings according to the legacy distribution config.'}\n",
      "{'explanation': 'Update the javadoc comment to reflect the change from SSLConfig to SSLConfig.Builder', 'newComment': 'Configure a sslConfig.Builder for the server using the legacy configuration'}\n",
      "{'explanation': 'The old comment should be changed to fit the new method, which now uses a builder instead of directly setting values.', 'newComment': 'Configure a sslConfig.Builder for the server using the legacy configuration'}\n",
      "{'explanation': 'The old comment explained that the method was used to configure an sslConfig for the server using the legacy configuration. The method has been updated to use a builder instead.', 'newComment': 'Configure a sslConfig for the server using the legacy configuration with a builder.'}\n",
      "{'explanation': 'Change the javadoc comment to fit the new method', 'newComment': 'Configure a SSLConfig using Builder for the server with legacy configuration'}\n",
      "{'explanation': 'Configure a sslConfig for the server using the legacy configuration with Builder', 'newComment': 'Set up an SSLConfig with a Builder for the server according to the given legacy settings.'}\n",
      "{'explanation': 'The existing javadoc comment states that the method configures an sslConfig for the server using the legacy configuration.', 'newComment': 'Configure a SSLConfig.Builder for the server using the legacy configuration.'}\n",
      "{'explanation': 'Configure a SSLConfig for the server using the legacy configuration', 'newComment': 'Initialize an SSLConfig.Builder and use it to set properties based on distributionConfig'}\n"
     ]
    }
   ],
   "source": [
    "import json\n",
    "\n",
    "from langchain.output_parsers import ResponseSchema, StructuredOutputParser\n",
    "from langchain.prompts import PromptTemplate\n",
    "from langchain_community.llms.ollama import Ollama\n",
    "\n",
    "with open('../data/test.json', 'r') as raw_json:\n",
    "    read = raw_json.read()\n",
    "    parsed = json.loads(read)\n",
    "\n",
    "myModel = Model('mistral-openorca')\n",
    "for data in [parsed]:\n",
    "    _old_method = parsed['src_method']\n",
    "    _new_method = parsed['dst_method']\n",
    "    _old_comment = parsed['src_javadoc']\n",
    "    result = myModel.resolve(_old_method, _new_method, _old_comment)\n",
    "    print(result)"
   ],
   "metadata": {
    "collapsed": false,
    "ExecuteTime": {
     "end_time": "2024-01-07T12:28:02.492732Z",
     "start_time": "2024-01-07T12:27:46.473465Z"
    }
   },
   "id": "d74086745b080320"
  }
 ],
 "metadata": {
  "kernelspec": {
   "display_name": "Python 3",
   "language": "python",
   "name": "python3"
  },
  "language_info": {
   "codemirror_mode": {
    "name": "ipython",
    "version": 2
   },
   "file_extension": ".py",
   "mimetype": "text/x-python",
   "name": "python",
   "nbconvert_exporter": "python",
   "pygments_lexer": "ipython2",
   "version": "2.7.6"
  }
 },
 "nbformat": 4,
 "nbformat_minor": 5
}
