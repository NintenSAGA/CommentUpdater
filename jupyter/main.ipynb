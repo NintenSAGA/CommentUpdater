{
 "cells": [
  {
   "cell_type": "code",
   "execution_count": 3,
   "outputs": [],
   "source": [
    "from langchain_core.output_parsers import StrOutputParser\n",
    "import os\n",
    "\n",
    "from langchain.output_parsers import ResponseSchema, StructuredOutputParser\n",
    "from langchain.prompts import PromptTemplate\n",
    "from langchain_community.llms.ollama import Ollama\n",
    "from langchain_core.exceptions import OutputParserException\n",
    "\n",
    "\n",
    "class Model:\n",
    "    def __init__(self, model_type):\n",
    "        self.model = Ollama(model=model_type)\n",
    "        self.response_schemas = [\n",
    "            ResponseSchema(name=\"explanation\", description=\"explain which part of the old comment should be modified.\"),\n",
    "            ResponseSchema(name=\"newComment\", description=\"the new comment\"),\n",
    "        ]\n",
    "        self.output_parser = StructuredOutputParser.from_response_schemas(self.response_schemas)\n",
    "        self.format_instructions = self.output_parser.get_format_instructions()\n",
    "        self.prompt = PromptTemplate(\n",
    "            template=\n",
    "            '''\n",
    "            Read the following Java method: ```{old_method}```\n",
    "            Read the following javadoc comment belonging to the method mentioned before: {old_comment}\n",
    "            Then the Java method was modified to ```{new_method}```\n",
    "            Please tell me how should the old comment be changed to fit the new method.\n",
    "            Output in json format.\n",
    "            {format_instructions}''',\n",
    "            input_variables=[\"old_method\", \"old_comment\", \"new_method\"],\n",
    "            partial_variables={\"format_instructions\": self.format_instructions},\n",
    "        )\n",
    "        self.chain = self.prompt | self.model | StrOutputParser()\n",
    "\n",
    "    def resolve(self, old_method, new_method, old_comment):\n",
    "        while True:\n",
    "            try:\n",
    "                return self.chain.invoke({\n",
    "                    'old_method': old_method,\n",
    "                    'new_method': new_method,\n",
    "                    'old_comment': old_comment\n",
    "                })\n",
    "            except OutputParserException as e:\n",
    "                print(e)\n"
   ],
   "metadata": {
    "collapsed": false,
    "ExecuteTime": {
     "end_time": "2024-01-07T12:58:45.907373Z",
     "start_time": "2024-01-07T12:58:45.902728Z"
    }
   },
   "id": "6fc35b7193b620cf"
  },
  {
   "cell_type": "markdown",
   "source": [
    "## Single test case"
   ],
   "metadata": {
    "collapsed": false
   },
   "id": "57a293ecdb777455"
  },
  {
   "cell_type": "code",
   "execution_count": 14,
   "outputs": [
    {
     "name": "stdout",
     "output_type": "stream",
     "text": [
      " {\n",
      "  \"explanation\": \"The old comment was missing the information about the @PutMapping annotation and consumes parameter. Also, the method is now using a JsonObject as input.\",\n",
      "  \"newComment\": \"@PutMapping(path = \\\"/clusters/basic\\\", consumes = APPLICATION_JSON_VALUE) Save basic clusters.\"\n",
      "}\n"
     ]
    }
   ],
   "source": [
    "import json\n",
    "\n",
    "nr_line = int(input('Which line would you like to test?'))\n",
    "\n",
    "with open('../data/raw/test.jsonl', 'r') as f:\n",
    "    raw_json = f.readlines()[nr_line]\n",
    "    parsed = json.loads(raw_json)\n",
    "\n",
    "myModel = Model('mistral-openorca')\n",
    "for data in [parsed]:\n",
    "    _old_method = parsed['src_method']\n",
    "    _new_method = parsed['dst_method']\n",
    "    _old_comment = parsed['src_javadoc']\n",
    "    result = myModel.resolve(_old_method, _new_method, _old_comment)\n",
    "    print(result)"
   ],
   "metadata": {
    "collapsed": false,
    "ExecuteTime": {
     "end_time": "2024-01-07T13:22:29.766867Z",
     "start_time": "2024-01-07T13:22:18.651597Z"
    }
   },
   "id": "d74086745b080320"
  },
  {
   "cell_type": "markdown",
   "source": [
    "# Multiple test cases"
   ],
   "metadata": {
    "collapsed": false
   },
   "id": "8a9500eb3814876c"
  },
  {
   "cell_type": "code",
   "execution_count": 11,
   "outputs": [
    {
     "name": "stdout",
     "output_type": "stream",
     "text": [
      "Processing... 1\r\n",
      "Processing... 2\r\n",
      "Processing... 3\r\n",
      "Processing... 4\r\n",
      "Processing... 5\r\n",
      "Processing... 6\r\n",
      "Processing... 7\r\n",
      "Processing... 8\r\n",
      "Processing... 9\r\n",
      "Processing... 10\r\n",
      "Processing... 11\r\n",
      "Processing... 12\r\n",
      "Processing... 13\r\n",
      "Processing... 14\r\n",
      "Processing... 15\r\n",
      "Processing... 16\r\n",
      "Processing... 17\r\n",
      "Processing... 18\r\n",
      "Processing... 19\r\n",
      "Processing... 20\r\n",
      "Processing... 21\r\n",
      "Processing... 22\r\n",
      "Processing... 23\r\n",
      "Processing... 24\r\n",
      "Processing... 25\r\n",
      "Processing... 26\r\n",
      "Processing... 27\r\n",
      "Processing... 28\r\n",
      "Processing... 29\r\n",
      "Processing... 30\r\n",
      "Processing... 31\r\n",
      "Processing... 32\r\n",
      "Processing... 33\r\n",
      "Processing... 34\r\n",
      "Processing... 35\r\n",
      "Processing... 36\r\n",
      "Processing... 37\r\n",
      "Processing... 38\r\n",
      "Processing... 39\r\n",
      "Processing... 40\r\n",
      "Processing... 41\r\n",
      "Processing... 42\r\n",
      "Processing... 43\r\n",
      "Processing... 44\r\n",
      "Processing... 45\r\n",
      "Processing... 46\r\n",
      "Processing... 47\r\n",
      "Processing... 48\r\n",
      "Processing... 49\r\n",
      "Processing... 50\r\n",
      "Processing... 51\r\n",
      "Processing... 52\r\n",
      "Processing... 53\r\n",
      "Processing... 54\r\n",
      "Processing... 55\r\n",
      "Processing... 56\r\n",
      "Processing... 57\r\n",
      "Processing... 58\r\n",
      "Processing... 59\r\n",
      "Processing... 60\r\n",
      "Processing... 61\r\n",
      "Processing... 62\r\n",
      "Processing... 63\r\n",
      "Processing... 64\r\n",
      "Processing... 65\r\n",
      "Processing... 66\r\n",
      "Processing... 67\r\n",
      "Processing... 68\r\n",
      "Processing... 69\r\n",
      "Processing... 70\r\n",
      "Processing... 71\r\n",
      "Processing... 72\r\n",
      "Processing... 73\r\n",
      "Processing... 74\r\n",
      "Processing... 75\r\n",
      "Processing... 76\r\n",
      "Processing... 77\r\n",
      "Processing... 78\r\n",
      "Processing... 79\r\n",
      "Processing... 80\r\n",
      "Processing... 81\r\n",
      "Processing... 82\r\n",
      "Processing... 83\r\n",
      "Processing... 84\r\n",
      "Processing... 85\r\n",
      "Processing... 86\r\n",
      "Processing... 87\r\n",
      "Processing... 88\r\n",
      "Processing... 89\r\n",
      "Processing... 90\r\n",
      "Processing... 91\r\n",
      "Processing... 92\r\n",
      "Processing... 93\r\n",
      "Processing... 94\r\n",
      "Processing... 95\r\n",
      "Processing... 96\r\n",
      "Processing... 97\r\n",
      "Processing... 98\r\n",
      "Processing... 99\r\n",
      "Processing... 100\r\n"
     ]
    }
   ],
   "source": [
    "import json\n",
    "\n",
    "parsed_lines = []\n",
    "with open('../data/processed/test.jsonl', 'r') as f:\n",
    "    for line in f:\n",
    "        parsed = json.loads(line)\n",
    "        parsed_lines.append(parsed)\n",
    "\n",
    "result_lines = []\n",
    "myModel = Model('mistral-openorca')\n",
    "count = 0\n",
    "with open('../data/processed/result.jsonl', 'w+') as r:\n",
    "    for data in parsed_lines:\n",
    "        _old_method = parsed['src_method']\n",
    "        _new_method = parsed['dst_method']\n",
    "        _old_comment = parsed['src_javadoc']\n",
    "        result = myModel.resolve(_old_method, _new_method, _old_comment)\n",
    "        r.write(result)\n",
    "        r.write(os.linesep)\n",
    "        count += 1\n",
    "        print(f'Processing... {count}\\r')\n"
   ],
   "metadata": {
    "collapsed": false,
    "ExecuteTime": {
     "end_time": "2024-01-07T13:08:05.709686Z",
     "start_time": "2024-01-07T13:01:25.470526Z"
    }
   },
   "id": "18c3663da9f4c4f8"
  }
 ],
 "metadata": {
  "kernelspec": {
   "display_name": "Python 3",
   "language": "python",
   "name": "python3"
  },
  "language_info": {
   "codemirror_mode": {
    "name": "ipython",
    "version": 2
   },
   "file_extension": ".py",
   "mimetype": "text/x-python",
   "name": "python",
   "nbconvert_exporter": "python",
   "pygments_lexer": "ipython2",
   "version": "2.7.6"
  }
 },
 "nbformat": 4,
 "nbformat_minor": 5
}
