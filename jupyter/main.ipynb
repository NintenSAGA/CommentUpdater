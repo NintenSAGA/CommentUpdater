{
 "cells": [
  {
   "cell_type": "code",
   "execution_count": 34,
   "outputs": [],
   "source": [
    "from langchain_community.llms.ollama import Ollama\n",
    "\n",
    "model = Ollama(model='llama2')"
   ],
   "metadata": {
    "collapsed": false,
    "ExecuteTime": {
     "end_time": "2024-01-07T08:59:27.752097Z",
     "start_time": "2024-01-07T08:59:27.748595Z"
    }
   },
   "id": "d74086745b080320"
  },
  {
   "cell_type": "code",
   "execution_count": 35,
   "outputs": [],
   "source": [
    "import json\n",
    "\n",
    "with open('../data/test.json', 'r') as raw_json:\n",
    "    read = raw_json.read()\n",
    "    parsed = json.loads(read)\n",
    "\n",
    "old_method = parsed['src_method']\n",
    "new_method = parsed['dst_method']\n",
    "old_comment = parsed['src_javadoc']"
   ],
   "metadata": {
    "collapsed": false,
    "ExecuteTime": {
     "end_time": "2024-01-07T08:59:27.757322Z",
     "start_time": "2024-01-07T08:59:27.753663Z"
    }
   },
   "id": "709a9cd3bae993aa"
  },
  {
   "cell_type": "code",
   "execution_count": 36,
   "outputs": [],
   "source": [
    "from langchain.output_parsers import ResponseSchema, StructuredOutputParser\n",
    "from langchain.prompts import PromptTemplate\n",
    "\n",
    "response_schemas = [\n",
    "    ResponseSchema(name=\"newComment\", description=\"the new comment\"),\n",
    "]\n",
    "\n",
    "output_parser = StructuredOutputParser.from_response_schemas(response_schemas)\n",
    "format_instructions = output_parser.get_format_instructions()\n"
   ],
   "metadata": {
    "collapsed": false,
    "ExecuteTime": {
     "end_time": "2024-01-07T08:59:27.761606Z",
     "start_time": "2024-01-07T08:59:27.757697Z"
    }
   },
   "id": "95c22dcd15562da1"
  },
  {
   "cell_type": "code",
   "execution_count": 63,
   "outputs": [
    {
     "name": "stdout",
     "output_type": "stream",
     "text": [
      "Result1: The biggest difference between the old method and the new method is that the new method uses an `SSLConfig.Builder` to configure the SSL settings, which allows for a more flexible and modular way of setting up the SSL configuration compared to the old method's use of a single `SSLConfig` object.\n",
      "Result2: \n",
      "Original comment: Configure a sslConfig for the server using the legacy configuration.\n",
      "\n",
      "Update needed:\n",
      "\n",
      "* \"legacy configuration\" should be replaced with \"single `SSLConfig` object\" to reflect the change in the method's signature from taking no arguments to taking an `SSLConfig.Builder` as its only argument.\n"
     ]
    }
   ],
   "source": [
    "\n",
    "from langchain_core.output_parsers import StrOutputParser\n",
    "\n",
    "prompt1 = PromptTemplate(\n",
    "    template='Please tell me the biggest difference between the old method and the new method in one sentence. No more than 50 words. \\nOld Method: ```{old_method}```\\nNew Method: ```{new_method}```',\n",
    "    input_variables=[\"old_method\", \"new_method\"]\n",
    ")\n",
    "prompt2 = PromptTemplate(\n",
    "    template=\n",
    "    '''\n",
    "    Read the following method modification: ```{modification}```\n",
    "    Read the old javadoc comment: {old_comment}\n",
    "    Tell me what the original comment is. \n",
    "    And then tell me which parts of the comment should be updated.\n",
    "    {format_instructions}''',\n",
    "    input_variables=[\"modification\", \"old_comment\"],\n",
    "    partial_variables={\"format_instructions\": ''},\n",
    ")\n",
    "\n",
    "chain1 = prompt1 | model | StrOutputParser()\n",
    "r1 = chain1.invoke({\n",
    "    'new_method': new_method,\n",
    "    'old_method': old_method,\n",
    "})\n",
    "\n",
    "print('Result1: ' + r1, end='\\n\\n')\n",
    "\n",
    "chain2 = (\n",
    "        prompt2\n",
    "        | model\n",
    "        | StrOutputParser()\n",
    ")\n",
    "result = chain2.invoke(\n",
    "    {\"modification\": r1, \"old_comment\": old_comment}\n",
    ")\n",
    "\n",
    "print(f\"Result2: {result}\")"
   ],
   "metadata": {
    "collapsed": false,
    "ExecuteTime": {
     "end_time": "2024-01-07T09:50:13.228949Z",
     "start_time": "2024-01-07T09:50:05.031242Z"
    }
   },
   "id": "51e75faa0721a825"
  }
 ],
 "metadata": {
  "kernelspec": {
   "display_name": "Python 3",
   "language": "python",
   "name": "python3"
  },
  "language_info": {
   "codemirror_mode": {
    "name": "ipython",
    "version": 2
   },
   "file_extension": ".py",
   "mimetype": "text/x-python",
   "name": "python",
   "nbconvert_exporter": "python",
   "pygments_lexer": "ipython2",
   "version": "2.7.6"
  }
 },
 "nbformat": 4,
 "nbformat_minor": 5
}
