{
 "cells": [
  {
   "cell_type": "code",
   "execution_count": 64,
   "outputs": [],
   "source": [
    "from langchain_community.llms.ollama import Ollama\n",
    "\n",
    "model = Ollama(model='mistral-openorca')"
   ],
   "metadata": {
    "collapsed": false,
    "ExecuteTime": {
     "end_time": "2024-01-07T11:18:09.145519Z",
     "start_time": "2024-01-07T11:18:09.145124Z"
    }
   },
   "id": "d74086745b080320"
  },
  {
   "cell_type": "code",
   "execution_count": 65,
   "outputs": [],
   "source": [
    "import json\n",
    "\n",
    "with open('../data/test.json', 'r') as raw_json:\n",
    "    read = raw_json.read()\n",
    "    parsed = json.loads(read)\n",
    "\n",
    "old_method = parsed['src_method']\n",
    "new_method = parsed['dst_method']\n",
    "old_comment = parsed['src_javadoc']"
   ],
   "metadata": {
    "collapsed": false,
    "ExecuteTime": {
     "end_time": "2024-01-07T11:18:09.158118Z",
     "start_time": "2024-01-07T11:18:09.151329Z"
    }
   },
   "id": "709a9cd3bae993aa"
  },
  {
   "cell_type": "code",
   "execution_count": 87,
   "outputs": [],
   "source": [
    "from langchain.output_parsers import ResponseSchema, StructuredOutputParser\n",
    "from langchain.prompts import PromptTemplate\n",
    "\n",
    "response_schemas = [\n",
    "    ResponseSchema(name=\"explanation\", description=\"how the old comment should be changed\"),\n",
    "    ResponseSchema(name=\"newComment\", description=\"the new comment\"),\n",
    "]\n",
    "\n",
    "output_parser = StructuredOutputParser.from_response_schemas(response_schemas)\n",
    "format_instructions = output_parser.get_format_instructions()\n"
   ],
   "metadata": {
    "collapsed": false,
    "ExecuteTime": {
     "end_time": "2024-01-07T11:34:05.614288Z",
     "start_time": "2024-01-07T11:34:05.611026Z"
    }
   },
   "id": "95c22dcd15562da1"
  },
  {
   "cell_type": "code",
   "execution_count": 88,
   "outputs": [
    {
     "name": "stdout",
     "output_type": "stream",
     "text": [
      " {\n",
      "  \"explanation\": \"The original comment can be updated to better reflect the modified method. The main change is that the method now uses a builder for SSLConfig, which allows for more flexibility in creating the configuration object.\",\n",
      "  \"newComment\": \"Configure an SSLConfig.Builder for the server using the legacy configuration.\"\n",
      "}\n"
     ]
    }
   ],
   "source": [
    "from langchain_core.output_parsers import StrOutputParser\n",
    "\n",
    "prompt3 = PromptTemplate(\n",
    "    template=\n",
    "    '''\n",
    "    Read the following Java method: ```{old_method}```\n",
    "    Read the following javadoc comment belonging to the method mentioned before: {old_comment}\n",
    "    Then the Java method was modified to ```{new_method}```\n",
    "    Please tell me how should the old comment be changed to fit the new method.\n",
    "    {format_instructions}''',\n",
    "    input_variables=[\"old_method\", \"old_comment\", \"new_method\"],\n",
    "    partial_variables={\"format_instructions\": format_instructions},\n",
    ")\n",
    "\n",
    "chain3 = prompt3 | model | StrOutputParser()\n",
    "r3 = chain3.invoke({\n",
    "    'old_method': old_method,\n",
    "    'new_method': new_method,\n",
    "    'old_comment': old_comment\n",
    "})\n",
    "\n",
    "print(r3)"
   ],
   "metadata": {
    "collapsed": false,
    "ExecuteTime": {
     "end_time": "2024-01-07T11:34:12.212852Z",
     "start_time": "2024-01-07T11:34:07.896842Z"
    }
   },
   "id": "2905e603d8474e9c"
  },
  {
   "cell_type": "code",
   "execution_count": 75,
   "outputs": [
    {
     "name": "stdout",
     "output_type": "stream",
     "text": [
      "Result1:  The main difference is that the new method uses a builder pattern to configure SSL settings, providing a more modular and fluent approach for setting up SSL configurations compared to the previous method which used direct object mutation.\n",
      "Result2:  The original comment was: \"Configure a sslConfig for the server using the legacy configuration.\"\n",
      "To change this to reflect the new approach with the builder pattern, it should now read: \"Configure an SSL configuration for the server using a fluent and modular approach provided by the builder pattern.\"\n"
     ]
    }
   ],
   "source": [
    "\n",
    "from langchain_core.output_parsers import StrOutputParser\n",
    "\n",
    "prompt1 = PromptTemplate(\n",
    "    template='Please tell me the main difference(s) between the old method and the new method in one sentence. No more than 100 words. \\nOld Method: ```{old_method}```\\nNew Method: ```{new_method}```',\n",
    "    input_variables=[\"old_method\", \"new_method\"]\n",
    ")\n",
    "prompt2 = PromptTemplate(\n",
    "    template=\n",
    "    '''\n",
    "    Read the following method modification: ```{modification}```\n",
    "    Read the old javadoc comment: {old_comment}\n",
    "    Tell me what the original comment is. \n",
    "    And then tell me how should the old comment be changed.\n",
    "    * Do not compare\n",
    "    * Do not mention the old method\n",
    "    {format_instructions}''',\n",
    "    input_variables=[\"modification\", \"old_comment\"],\n",
    "    partial_variables={\"format_instructions\": ''},\n",
    ")\n",
    "\n",
    "chain1 = prompt1 | model | StrOutputParser()\n",
    "r1 = chain1.invoke({\n",
    "    'new_method': new_method,\n",
    "    'old_method': old_method,\n",
    "})\n",
    "\n",
    "print('Result1: ' + r1, end='\\n\\n')\n",
    "\n",
    "chain2 = (\n",
    "        prompt2\n",
    "        | model\n",
    "        | StrOutputParser()\n",
    ")\n",
    "result = chain2.invoke(\n",
    "    {\"modification\": r1, \"old_comment\": old_comment}\n",
    ")\n",
    "\n",
    "print(f\"Result2: {result}\")"
   ],
   "metadata": {
    "collapsed": false,
    "ExecuteTime": {
     "end_time": "2024-01-07T11:25:54.672088Z",
     "start_time": "2024-01-07T11:25:46.181234Z"
    }
   },
   "id": "51e75faa0721a825"
  }
 ],
 "metadata": {
  "kernelspec": {
   "display_name": "Python 3",
   "language": "python",
   "name": "python3"
  },
  "language_info": {
   "codemirror_mode": {
    "name": "ipython",
    "version": 2
   },
   "file_extension": ".py",
   "mimetype": "text/x-python",
   "name": "python",
   "nbconvert_exporter": "python",
   "pygments_lexer": "ipython2",
   "version": "2.7.6"
  }
 },
 "nbformat": 4,
 "nbformat_minor": 5
}
