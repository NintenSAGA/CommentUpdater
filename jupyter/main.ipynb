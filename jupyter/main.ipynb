{
 "cells": [
  {
   "cell_type": "code",
   "execution_count": 34,
   "outputs": [],
   "source": [
    "from langchain_community.llms.ollama import Ollama\n",
    "\n",
    "model = Ollama(model='llama2')"
   ],
   "metadata": {
    "collapsed": false,
    "ExecuteTime": {
     "end_time": "2024-01-07T08:59:27.752097Z",
     "start_time": "2024-01-07T08:59:27.748595Z"
    }
   },
   "id": "d74086745b080320"
  },
  {
   "cell_type": "code",
   "execution_count": 35,
   "outputs": [],
   "source": [
    "import json\n",
    "\n",
    "with open('../data/test.json', 'r') as raw_json:\n",
    "    read = raw_json.read()\n",
    "    parsed = json.loads(read)\n",
    "\n",
    "old_method = parsed['src_method']\n",
    "new_method = parsed['dst_method']\n",
    "old_comment = parsed['src_javadoc']"
   ],
   "metadata": {
    "collapsed": false,
    "ExecuteTime": {
     "end_time": "2024-01-07T08:59:27.757322Z",
     "start_time": "2024-01-07T08:59:27.753663Z"
    }
   },
   "id": "709a9cd3bae993aa"
  },
  {
   "cell_type": "code",
   "execution_count": 36,
   "outputs": [],
   "source": [
    "from langchain.output_parsers import ResponseSchema, StructuredOutputParser\n",
    "from langchain.prompts import PromptTemplate\n",
    "\n",
    "response_schemas = [\n",
    "    ResponseSchema(name=\"newComment\", description=\"the new comment\"),\n",
    "]\n",
    "\n",
    "output_parser = StructuredOutputParser.from_response_schemas(response_schemas)\n",
    "format_instructions = output_parser.get_format_instructions()\n"
   ],
   "metadata": {
    "collapsed": false,
    "ExecuteTime": {
     "end_time": "2024-01-07T08:59:27.761606Z",
     "start_time": "2024-01-07T08:59:27.757697Z"
    }
   },
   "id": "95c22dcd15562da1"
  },
  {
   "cell_type": "code",
   "execution_count": null,
   "outputs": [],
   "source": [
    "\n",
    "from langchain_core.output_parsers import StrOutputParser\n",
    "\n",
    "prompt1 = PromptTemplate(\n",
    "    template='Please show the change sequence between the old method and the new method in one sentence. No more than 150 words. \\nOld Method: ```{old_method}```\\nNew Method: ```{new_method}```',\n",
    "    input_variables=[\"old_method\", \"new_method\"]\n",
    ")\n",
    "prompt2 = PromptTemplate(\n",
    "    template=\n",
    "    '''\n",
    "    Read the JavaDoc comment below.\n",
    "    Old comment: {old_comment}\n",
    "    The method it belongs to has been modified according to the following content. \n",
    "    Modification: ```{modification}```\n",
    "    Please infer the new comment.\n",
    "    {format_instructions}''',\n",
    "    input_variables=[\"modification\", \"old_comment\"],\n",
    "    partial_variables={\"format_instructions\": format_instructions},\n",
    ")\n",
    "\n",
    "chain1 = prompt1 | model | StrOutputParser()\n",
    "r1 = chain1.invoke({\n",
    "    'new_method': new_method,\n",
    "    'old_method': old_method,\n",
    "})\n",
    "\n",
    "print('Result1: ' + r1, end='\\n\\n')\n",
    "\n",
    "chain2 = (\n",
    "        prompt2\n",
    "        | model\n",
    "        | StrOutputParser()\n",
    ")\n",
    "result = chain2.invoke(\n",
    "    {\"modification\": r1, \"old_comment\": old_comment}\n",
    ")\n",
    "\n",
    "print(f\"Result2: {result}\")"
   ],
   "metadata": {
    "collapsed": false,
    "is_executing": true,
    "ExecuteTime": {
     "start_time": "2024-01-07T09:24:30.947781Z"
    }
   },
   "id": "51e75faa0721a825"
  }
 ],
 "metadata": {
  "kernelspec": {
   "display_name": "Python 3",
   "language": "python",
   "name": "python3"
  },
  "language_info": {
   "codemirror_mode": {
    "name": "ipython",
    "version": 2
   },
   "file_extension": ".py",
   "mimetype": "text/x-python",
   "name": "python",
   "nbconvert_exporter": "python",
   "pygments_lexer": "ipython2",
   "version": "2.7.6"
  }
 },
 "nbformat": 4,
 "nbformat_minor": 5
}
