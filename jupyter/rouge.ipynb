{
 "cells": [
  {
   "cell_type": "code",
   "execution_count": 36,
   "outputs": [
    {
     "name": "stdout",
     "output_type": "stream",
     "text": [
      "Original: A black fox\n",
      "Expected: A red fox\n",
      "p: 1.00 r: 1.00 f: 1.00 - A black fox\n",
      "p: 1.00 r: 1.00 f: 1.00 - A  black\t fox\n",
      "p: 0.67 r: 0.67 f: 0.67 - A red fox\n",
      "p: 0.33 r: 1.00 f: 0.50 - A cute black fox jumps over the lazy dog\n",
      "p: 0.22 r: 0.67 f: 0.33 - A cute red fox jumps over the lazy dog\n",
      "p: 0.33 r: 0.33 f: 0.33 - A crimson vulpine\n"
     ]
    }
   ],
   "source": [
    "import rouge\n",
    "\n",
    "rouge = rouge.Rouge()\n",
    "# Assume that the correct modification is black -> red\n",
    "hyp_list = [\n",
    "    'A black fox', # identical\n",
    "    'A  black\\t fox', # identical but some format differences\n",
    "    'A red fox', # correct update\n",
    "    'A cute black fox jumps over the lazy dog', # extend only\n",
    "    'A cute red fox jumps over the lazy dog', # correct update while extend more\n",
    "    'A crimson vulpine', # Correct but close to generation instead of updating\n",
    "]\n",
    "ref = ['A black fox'] * len(hyp_list)\n",
    "\n",
    "scores = rouge.get_scores(refs=ref, hyps=hyp_list)\n",
    "score = scores[0]['rouge-l']['r'] # focus on the recall point\n",
    "\n",
    "print(f\"Original: {ref[0]}\")\n",
    "print(f\"Expected: {hyp_list[2]}\")\n",
    "for i, score in enumerate(scores):\n",
    "    hyp = hyp_list[i]\n",
    "    recall = score['rouge-l']['r']\n",
    "    precision = score['rouge-l']['p']\n",
    "    f = score['rouge-l']['f']\n",
    "    print(f'p: {precision:.2f} r: {recall:.2f} f: {f:.2f} - {hyp}')"
   ],
   "metadata": {
    "collapsed": false,
    "ExecuteTime": {
     "end_time": "2024-02-15T09:41:41.970845Z",
     "start_time": "2024-02-15T09:41:41.968921Z"
    }
   },
   "id": "d516a033da969c84"
  }
 ],
 "metadata": {
  "kernelspec": {
   "display_name": "Python 3",
   "language": "python",
   "name": "python3"
  },
  "language_info": {
   "codemirror_mode": {
    "name": "ipython",
    "version": 2
   },
   "file_extension": ".py",
   "mimetype": "text/x-python",
   "name": "python",
   "nbconvert_exporter": "python",
   "pygments_lexer": "ipython2",
   "version": "2.7.6"
  }
 },
 "nbformat": 4,
 "nbformat_minor": 5
}
