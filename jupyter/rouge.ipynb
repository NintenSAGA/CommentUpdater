{
 "cells": [
  {
   "cell_type": "code",
   "execution_count": 19,
   "outputs": [
    {
     "name": "stdout",
     "output_type": "stream",
     "text": [
      "Original: A black fox\n",
      "Expected: A red fox\n",
      "p: 1.00 r: 1.00 f: 1.00 - A black fox\n",
      "p: 1.00 r: 1.00 f: 1.00 - A  black\t fox\n",
      "p: 0.67 r: 0.67 f: 0.67 - A red fox\n",
      "p: 0.33 r: 1.00 f: 0.50 - A cute black fox jumps over the lazy dog\n",
      "p: 0.22 r: 0.67 f: 0.33 - A cute red fox jumps over the lazy dog\n",
      "p: 0.33 r: 0.33 f: 0.33 - A crimson vulpine\n"
     ]
    }
   ],
   "source": [
    "\n",
    "import rouge\n",
    "\n",
    "rouge = rouge.Rouge()\n",
    "# Assume that the correct modification is black -> red\n",
    "hyp_list = [\n",
    "    'A black fox',  # identical\n",
    "    'A  black\\t fox',  # identical but some format differences\n",
    "    'A red fox',  # correct update\n",
    "    'A cute black fox jumps over the lazy dog',  # extend only\n",
    "    'A cute red fox jumps over the lazy dog',  # correct update while extend more\n",
    "    'A crimson vulpine',  # Correct but close to generation instead of updating\n",
    "]\n",
    "ref = ['A black fox'] * len(hyp_list)\n",
    "\n",
    "scores = rouge.get_scores(refs=ref, hyps=hyp_list)\n",
    "score = scores[0]['rouge-l']['r']  # focus on the recall point\n",
    "\n",
    "print(f\"Original: {ref[0]}\")\n",
    "print(f\"Expected: {hyp_list[2]}\")\n",
    "for i, score in enumerate(scores):\n",
    "    hyp = hyp_list[i]\n",
    "    recall = score['rouge-l']['r']\n",
    "    precision = score['rouge-l']['p']\n",
    "    f = score['rouge-l']['f']\n",
    "    print(f'p: {precision:.2f} r: {recall:.2f} f: {f:.2f} - {hyp}')"
   ],
   "metadata": {
    "collapsed": false,
    "ExecuteTime": {
     "end_time": "2024-02-15T14:12:30.624590Z",
     "start_time": "2024-02-15T14:12:30.621469Z"
    }
   },
   "id": "d516a033da969c84"
  },
  {
   "cell_type": "code",
   "execution_count": 20,
   "outputs": [],
   "source": [
    "from sklearn.feature_extraction.text import TfidfVectorizer\n",
    "from sklearn.metrics.pairwise import cosine_similarity\n",
    "\n",
    "def cal_cosine_similarity(text1, text2):\n",
    "    # Create a TF-IDF Vectorizer\n",
    "    vectorizer = TfidfVectorizer()\n",
    "\n",
    "    # Transform texts to TF-IDF vectors\n",
    "    tfidf_matrix = vectorizer.fit_transform([text1, text2])\n",
    "\n",
    "    # Calculate Cosine Similarity\n",
    "    similarity = cosine_similarity(tfidf_matrix[0:1], tfidf_matrix[1:2])[0][0]\n",
    "\n",
    "    return similarity\n"
   ],
   "metadata": {
    "collapsed": false,
    "ExecuteTime": {
     "end_time": "2024-02-15T14:12:30.628180Z",
     "start_time": "2024-02-15T14:12:30.624495Z"
    }
   },
   "id": "59cc3c0fb2075223"
  },
  {
   "cell_type": "code",
   "execution_count": 41,
   "outputs": [
    {
     "name": "stdout",
     "output_type": "stream",
     "text": [
      "0.9129122931152769\n",
      "recall: 0.67 cs: 0.05 - Save basic configuration.\n",
      "recall: 0.67 cs: 0.05 - Save basic cluster.\n",
      "recall: 0.67 cs: 0.04 - Save cluster basic configuration.\n",
      "recall: 0.33 cs: 0.00 - Save cluster configuration.\n",
      "recall: 0.33 cs: 0.00 - Save configuration.\n"
     ]
    }
   ],
   "source": [
    "import difflib\n",
    "\n",
    "\n",
    "def calculate_diff(original: str, updated: str):\n",
    "    matcher = difflib.SequenceMatcher(lambda x: x == \" \", original, updated)\n",
    "    print(matcher.get_opcodes())\n",
    "    modifications = []\n",
    "    for tag, i1, i2, j1, j2 in matcher.get_opcodes():\n",
    "        if tag != 'equal':\n",
    "            # Add the modification pair (old, new) to the list\n",
    "            modifications.append((original[i1:i2], updated[j1:j2]))\n",
    "\n",
    "    return modifications\n",
    "\n",
    "\n",
    "src_method = \"@ApiOperation(value = \\\"Save cluster basic configuration.\\\")\\n    @PutMapping(path = \\\"/clusters/basic\\\", consumes = APPLICATION_JSON_VALUE)\\n    public ResponseEntity<Void> saveBasicCluster(\\n        @AuthenticationPrincipal Account acc,\\n        @RequestHeader(value = \\\"demoMode\\\", defaultValue = \\\"false\\\") boolean demo,\\n        @RequestBody JsonObject changedItems\\n    ) {\\n        cfgsSrv.saveBasicCluster(new ConfigurationKey(acc.getId(), demo), changedItems);\\n\\n        return ResponseEntity.ok().build();\\n    }\"\n",
    "dst_method =  \"@PutMapping(path = \\\"/clusters/basic\\\", consumes = APPLICATION_JSON_VALUE)\\n    public ResponseEntity<Void> saveBasicCluster(\\n        @AuthenticationPrincipal Account acc,\\n        @RequestHeader(value = \\\"demoMode\\\", defaultValue = \\\"false\\\") boolean demo,\\n        @RequestBody JsonObject changedItems\\n    ) {\\n        cfgsSrv.saveBasicCluster(new ConfigurationKey(acc.getId(), demo), changedItems);\\n\\n        return ResponseEntity.ok().build();\\n    }\"\n",
    "src_javadoc = 'Save basic clusters.'\n",
    "\n",
    "print(cal_cosine_similarity(src_method, dst_method))\n",
    "\n",
    "candidates = [\n",
    "    'Save cluster basic configuration.',\n",
    "    'Save basic configuration.',\n",
    "    'Save cluster configuration.',\n",
    "    'Save configuration.',\n",
    "    'Save basic clusters.',\n",
    "    'Save basic cluster.',\n",
    "    'Save cluster.',\n",
    "    'Preserve fundamental setup.',\n",
    "    'Preserve fundamental cluster setup.',\n",
    "    'Preserve and maintain the primary, fundamental setup and configuration of the computing cluster, ensuring its initial, basic settings are securely stored and kept intact.'\n",
    "]\n",
    "\n",
    "scores = rouge.get_scores(hyps=candidates,\n",
    "                          refs=[src_javadoc] * len(candidates))\n",
    "cand_tuples = []\n",
    "for i, score in enumerate(scores):\n",
    "    hyp = candidates[i]\n",
    "    recall = score['rouge-l']['r']\n",
    "    precision = score['rouge-l']['p']\n",
    "    f = score['rouge-l']['f']\n",
    "    cs = cal_cosine_similarity(dst_method, hyp)\n",
    "    cand_tuples.append((hyp, recall, cs))\n",
    "    # print(f'p: {precision:.2f} r: {recall:.2f} f: {f:.2f} cs: {cal_cosine_similarity(dst_method, hyp):.5f} - {hyp}')\n",
    "\n",
    "n = len(candidates)\n",
    "m = 5\n",
    "cand_tuples0 = sorted(cand_tuples, key=lambda x: x[1], reverse=True)\n",
    "cand_tuples1 = list(filter(lambda x: x[0] != src_javadoc, cand_tuples0))\n",
    "cand_tuples2 = cand_tuples1[:min(m, len(cand_tuples1))]\n",
    "cand_tuples3 = sorted(cand_tuples2, key=lambda x: x[2], reverse=True)\n",
    "\n",
    "for t in cand_tuples3:\n",
    "    print(f'recall: {t[1]:.2f} cs: {t[2]:.2f} - {t[0]}')\n"
   ],
   "metadata": {
    "collapsed": false,
    "ExecuteTime": {
     "end_time": "2024-02-15T14:29:27.049216Z",
     "start_time": "2024-02-15T14:29:27.031097Z"
    }
   },
   "id": "a7641ba16a5ea9e1"
  },
  {
   "cell_type": "code",
   "execution_count": 21,
   "outputs": [],
   "source": [],
   "metadata": {
    "collapsed": false,
    "ExecuteTime": {
     "end_time": "2024-02-15T14:12:30.644789Z",
     "start_time": "2024-02-15T14:12:30.634372Z"
    }
   },
   "id": "b224116f82877b76"
  }
 ],
 "metadata": {
  "kernelspec": {
   "display_name": "Python 3",
   "language": "python",
   "name": "python3"
  },
  "language_info": {
   "codemirror_mode": {
    "name": "ipython",
    "version": 2
   },
   "file_extension": ".py",
   "mimetype": "text/x-python",
   "name": "python",
   "nbconvert_exporter": "python",
   "pygments_lexer": "ipython2",
   "version": "2.7.6"
  }
 },
 "nbformat": 4,
 "nbformat_minor": 5
}
