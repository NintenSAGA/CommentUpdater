{
 "cells": [
  {
   "cell_type": "code",
   "execution_count": 2,
   "outputs": [
    {
     "name": "stdout",
     "output_type": "stream",
     "text": [
      "Original: A black fox\n",
      "Expected: A red fox\n",
      "p: 1.00 r: 1.00 f: 1.00 - A black fox\n",
      "p: 1.00 r: 1.00 f: 1.00 - A  black\t fox\n",
      "p: 0.67 r: 0.67 f: 0.67 - A red fox\n",
      "p: 0.33 r: 1.00 f: 0.50 - A cute black fox jumps over the lazy dog\n",
      "p: 0.22 r: 0.67 f: 0.33 - A cute red fox jumps over the lazy dog\n",
      "p: 0.33 r: 0.33 f: 0.33 - A crimson vulpine\n"
     ]
    }
   ],
   "source": [
    "\n",
    "import rouge\n",
    "\n",
    "rouge = rouge.Rouge()\n",
    "# Assume that the correct modification is black -> red\n",
    "hyp_list = [\n",
    "    'A black fox',  # identical\n",
    "    'A  black\\t fox',  # identical but some format differences\n",
    "    'A red fox',  # correct update\n",
    "    'A cute black fox jumps over the lazy dog',  # extend only\n",
    "    'A cute red fox jumps over the lazy dog',  # correct update while extend more\n",
    "    'A crimson vulpine',  # Correct but close to generation instead of updating\n",
    "]\n",
    "ref = ['A black fox'] * len(hyp_list)\n",
    "\n",
    "scores = rouge.get_scores(refs=ref, hyps=hyp_list)\n",
    "score = scores[0]['rouge-l']['r']  # focus on the recall point\n",
    "\n",
    "print(f\"Original: {ref[0]}\")\n",
    "print(f\"Expected: {hyp_list[2]}\")\n",
    "for i, score in enumerate(scores):\n",
    "    hyp = hyp_list[i]\n",
    "    recall = score['rouge-l']['r']\n",
    "    precision = score['rouge-l']['p']\n",
    "    f = score['rouge-l']['f']\n",
    "    print(f'p: {precision:.2f} r: {recall:.2f} f: {f:.2f} - {hyp}')"
   ],
   "metadata": {
    "collapsed": false,
    "ExecuteTime": {
     "end_time": "2024-02-15T13:01:08.206882Z",
     "start_time": "2024-02-15T13:01:08.201597Z"
    }
   },
   "id": "d516a033da969c84"
  },
  {
   "cell_type": "code",
   "execution_count": 13,
   "outputs": [
    {
     "name": "stdout",
     "output_type": "stream",
     "text": [
      "[('equal', 0, 126, 0, 126), ('insert', 126, 126, 126, 472), ('equal', 126, 175, 472, 521), ('replace', 175, 181, 521, 530), ('equal', 181, 1012, 530, 1361)]\n",
      "[('', '\\n\\t\\tif( contourPadded != null && !contourPadded.isCreatePaddedCopy() ) {\\n\\t\\t\\tint padding = 2;\\n\\t\\t\\tif( gray.width+padding != binary.width || gray.height+padding != binary.height ) {\\n\\t\\t\\t\\tthrow new IllegalArgumentException(\"Including padding, expected a binary image with shape \"\\n\\t\\t\\t\\t+ (gray.width+padding)+\"x\"+(gray.height+padding));\\n\\t\\t\\t}\\n\\t\\t} else {\\n\\t'), ('\\n\\t\\tif(', '\\t\\t}\\n\\t\\tif(')]\n",
      "p: 0.75 r: 0.43 f: 0.55 - Save cluster basic configuration.\n",
      "p: 0.67 r: 0.29 f: 0.40 - Save basic configuration.\n",
      "p: 0.50 r: 0.14 f: 0.22 - Save configuration.\n",
      "p: 0.00 r: 0.00 f: 0.00 - Preserve fundamental setup.\n",
      "p: 0.67 r: 0.29 f: 0.40 - Save basic configuration.\n",
      "p: 0.05 r: 0.14 f: 0.07 - Preserve and maintain the primary, fundamental setup and configuration of the computing cluster, ensuring its initial, basic settings are securely stored and kept intact.\n"
     ]
    }
   ],
   "source": [
    "import difflib\n",
    "\n",
    "\n",
    "def calculate_diff(original: str, updated: str):\n",
    "    matcher = difflib.SequenceMatcher(lambda x: x == \" \", original, updated)\n",
    "    print(matcher.get_opcodes())\n",
    "    modifications = []\n",
    "    for tag, i1, i2, j1, j2 in matcher.get_opcodes():\n",
    "        if tag != 'equal':\n",
    "            # Add the modification pair (old, new) to the list\n",
    "            modifications.append((original[i1:i2], updated[j1:j2]))\n",
    "\n",
    "    return modifications\n",
    "\n",
    "\n",
    "src_method = \"public void process(T gray, GrayU8 binary) {\\n\\t\\tif( verbose ) System.out.println(\\\"ENTER  DetectPolygonFromContour.process()\\\");\\n\\t\\tInputSanityCheck.checkSameShape(binary, gray);\\n\\n\\t\\tif( imageWidth != gray.width || imageHeight != gray.height )\\n\\t\\t\\tconfigure(gray.width,gray.height);\\n\\n\\t\\t// reset storage for output. Call reset individually here to ensure that all references\\n\\t\\t// are nulled from last time\\n\\t\\tfor (int i = 0; i < foundInfo.size; i++) {\\n\\t\\t\\tfoundInfo.get(i).reset();\\n\\t\\t}\\n\\t\\tfoundInfo.reset();\\n\\n\\t\\tif( contourEdgeIntensity != null )\\n\\t\\t\\tcontourEdgeIntensity.setImage(gray);\\n\\n\\t\\tlong time0 = System.nanoTime();\\n\\n\\t\\t// find all the contours\\n\\t\\tcontourFinder.process(binary);\\n\\n\\t\\tlong time1 = System.nanoTime();\\n\\n\\t\\t// Using the contours find the polygons\\n\\t\\tfindCandidateShapes();\\n\\n\\t\\tlong time2 = System.nanoTime();\\n\\n\\t\\tdouble a = (time1-time0)*1e-6;\\n\\t\\tdouble b = (time2-time1)*1e-6;\\n\\n\\t\\tmilliContour.update(a);\\n\\t\\tmilliShapes.update(b);\\n\\n\\t\\tif( verbose ) System.out.println(\\\"EXIT  DetectPolygonFromContour.process()\\\");\\n\\t}\"\n",
    "dst_method = \"public void process(T gray, GrayU8 binary) {\\n\\t\\tif( verbose ) System.out.println(\\\"ENTER  DetectPolygonFromContour.process()\\\");\\n\\n\\t\\tif( contourPadded != null && !contourPadded.isCreatePaddedCopy() ) {\\n\\t\\t\\tint padding = 2;\\n\\t\\t\\tif( gray.width+padding != binary.width || gray.height+padding != binary.height ) {\\n\\t\\t\\t\\tthrow new IllegalArgumentException(\\\"Including padding, expected a binary image with shape \\\"\\n\\t\\t\\t\\t+ (gray.width+padding)+\\\"x\\\"+(gray.height+padding));\\n\\t\\t\\t}\\n\\t\\t} else {\\n\\t\\t\\tInputSanityCheck.checkSameShape(binary, gray);\\n\\t\\t}\\n\\t\\tif( imageWidth != gray.width || imageHeight != gray.height )\\n\\t\\t\\tconfigure(gray.width,gray.height);\\n\\n\\t\\t// reset storage for output. Call reset individually here to ensure that all references\\n\\t\\t// are nulled from last time\\n\\t\\tfor (int i = 0; i < foundInfo.size; i++) {\\n\\t\\t\\tfoundInfo.get(i).reset();\\n\\t\\t}\\n\\t\\tfoundInfo.reset();\\n\\n\\t\\tif( contourEdgeIntensity != null )\\n\\t\\t\\tcontourEdgeIntensity.setImage(gray);\\n\\n\\t\\tlong time0 = System.nanoTime();\\n\\n\\t\\t// find all the contours\\n\\t\\tcontourFinder.process(binary);\\n\\n\\t\\tlong time1 = System.nanoTime();\\n\\n\\t\\t// Using the contours find the polygons\\n\\t\\tfindCandidateShapes();\\n\\n\\t\\tlong time2 = System.nanoTime();\\n\\n\\t\\tdouble a = (time1-time0)*1e-6;\\n\\t\\tdouble b = (time2-time1)*1e-6;\\n\\n\\t\\tmilliContour.update(a);\\n\\t\\tmilliShapes.update(b);\\n\\n\\t\\tif( verbose ) System.out.println(\\\"EXIT  DetectPolygonFromContour.process()\\\");\\n\\t}\"\n",
    "\n",
    "print(calculate_diff(src_method, dst_method))\n",
    "\n",
    "candidates = [\n",
    "    'Save cluster basic configuration.',\n",
    "    'Save basic configuration.',\n",
    "    'Save configuration.',\n",
    "    'Preserve fundamental setup.',\n",
    "    'Save basic configuration.',\n",
    "    'Preserve and maintain the primary, fundamental setup and configuration of the computing cluster, ensuring its initial, basic settings are securely stored and kept intact.'\n",
    "]\n",
    "\n",
    "scores = rouge.get_scores(hyps=candidates,\n",
    "                          refs=['@ApiOperation(value = \"Save cluster basic configuration.\")\\n    '] * len(candidates))\n",
    "for i, score in enumerate(scores):\n",
    "    hyp = candidates[i]\n",
    "    recall = score['rouge-l']['r']\n",
    "    precision = score['rouge-l']['p']\n",
    "    f = score['rouge-l']['f']\n",
    "    print(f'p: {precision:.2f} r: {recall:.2f} f: {f:.2f} - {hyp}')"
   ],
   "metadata": {
    "collapsed": false,
    "ExecuteTime": {
     "end_time": "2024-02-15T13:50:18.070143Z",
     "start_time": "2024-02-15T13:50:18.068268Z"
    }
   },
   "id": "a7641ba16a5ea9e1"
  },
  {
   "cell_type": "code",
   "execution_count": 3,
   "outputs": [],
   "source": [],
   "metadata": {
    "collapsed": false,
    "ExecuteTime": {
     "end_time": "2024-02-15T13:01:08.232274Z",
     "start_time": "2024-02-15T13:01:08.214594Z"
    }
   },
   "id": "b224116f82877b76"
  }
 ],
 "metadata": {
  "kernelspec": {
   "display_name": "Python 3",
   "language": "python",
   "name": "python3"
  },
  "language_info": {
   "codemirror_mode": {
    "name": "ipython",
    "version": 2
   },
   "file_extension": ".py",
   "mimetype": "text/x-python",
   "name": "python",
   "nbconvert_exporter": "python",
   "pygments_lexer": "ipython2",
   "version": "2.7.6"
  }
 },
 "nbformat": 4,
 "nbformat_minor": 5
}
