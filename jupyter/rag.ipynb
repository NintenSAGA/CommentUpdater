{
 "cells": [
  {
   "cell_type": "code",
   "execution_count": 8,
   "outputs": [
    {
     "name": "stdout",
     "output_type": "stream",
     "text": [
      "The dotenv extension is already loaded. To reload it, use:\n",
      "  %reload_ext dotenv\n"
     ]
    },
    {
     "name": "stderr",
     "output_type": "stream",
     "text": [
      "\n",
      "KeyboardInterrupt\n",
      "\n"
     ]
    }
   ],
   "source": [
    "%load_ext dotenv\n",
    "%dotenv\n",
    "\n",
    "from langchain import hub\n",
    "from langchain.text_splitter import RecursiveCharacterTextSplitter\n",
    "from langchain_community.document_loaders import WebBaseLoader\n",
    "from langchain_community.embeddings import OllamaEmbeddings\n",
    "from langchain_community.llms.ollama import Ollama\n",
    "from langchain_community.vectorstores import Chroma\n",
    "from langchain_core.output_parsers import StrOutputParser\n",
    "from langchain_core.runnables import RunnablePassthrough\n",
    "\n",
    "loader = WebBaseLoader(\n",
    "    web_paths=['https://megamitensei.fandom.com/wiki/Metaphor:_ReFantazio'],\n",
    ")\n",
    "docs = loader.load()\n",
    "\n",
    "text_splitter = RecursiveCharacterTextSplitter(chunk_size=500, chunk_overlap=0)\n",
    "splits = text_splitter.split_documents(docs)\n",
    "vectorstore = Chroma.from_documents(documents=splits, embedding=OllamaEmbeddings())\n",
    "\n",
    "model = Ollama(model='dolphin-mistral')\n",
    "prompt = hub.pull(\"rlm/rag-prompt\")\n",
    "\n",
    "retriever = vectorstore.as_retriever()\n",
    "\n",
    "\n",
    "def format_docs(docs):\n",
    "    return \"\\n\\n\".join(doc.page_content for doc in docs)\n",
    "\n",
    "\n",
    "rag_chain = (\n",
    "        {\"context\": retriever | format_docs, \"question\": RunnablePassthrough()}\n",
    "        | prompt\n",
    "        | model\n",
    "        | StrOutputParser()\n",
    ")\n",
    "\n",
    "rag_chain.invoke('Please tell me something about the game Metaphor: ReFantazio')"
   ],
   "metadata": {
    "collapsed": false,
    "ExecuteTime": {
     "end_time": "2024-02-29T07:48:28.100733Z",
     "start_time": "2024-02-29T07:48:07.388418Z"
    }
   },
   "id": "7df76fbbc22a9876"
  },
  {
   "cell_type": "code",
   "execution_count": 10,
   "outputs": [
    {
     "name": "stdout",
     "output_type": "stream",
     "text": [
      "The dotenv extension is already loaded. To reload it, use:\n",
      "  %reload_ext dotenv\n",
      " Мексика (14) | 3:0 (25:20, 25:18, 25:20) |\n",
      "| 7 сентября 2003 | **Бразилия** — Чехия | **3:0** | 25:18, 25:19, 25:22 |\n",
      "| 7 сентября 2003 | **Италия** — Канада | **3:0** | 25:17, 25:20, 25:20 |\n",
      "| 8 сентября 2003 | **Чехия** — Мексика | **3:0** | 25:19, 25:20, 25:16 |\n",
      "| 8 сентября 2003 | **Бразилия** — Канада | **3:0** | 25:21, 25:17, 25:19 |\n",
      "| 8 сентября 2003 | **Италия** — Нидерланды | **3:0** | 25:23, 25:16, 25:19 |\n",
      "\n",
      "### Полуфинал за 3-е место\n",
      "\n",
      "| Дата |  | Результат |  | Сеты |\n",
      "| 1 | 2 | 3 | 4 | 5 |\n",
      "| 9 сентября 2003 | **Канада** — Мексика | **3:0** | 25:17, 25:18, 25:20 |\n",
      "\n",
      "### Финал за 5-е место\n",
      "\n",
      "| Дата |  | Результат |  | Сеты |\n",
      "| 1 | 2 | 3 | 4 | 5 |\n",
      "| 9 сентября 2003 | **Чехия** — Нидерланды | **3:0** | 25:22, 25:18, 25:21 |\n",
      "\n",
      "### Полуфинал\n",
      "\n",
      "| Дата |  | Результат |  | Сеты |\n",
      "| 1 | 2 | 3 | 4 | 5 |\n",
      "| 9 сентября 2003 | **Италия** — Бразилия | **3:0** | 27:25, 26:24, 25:20 |\n",
      "\n",
      "### Финал\n",
      "\n",
      "| Дата |  | Результат |  | Сеты |\n",
      "| 1 | 2 | 3 | 4 | 5 |\n",
      "| 9 сентября 2003 | **Италия** — Куба | **3:0** | 25:23, 26:24, 25:23 |\n",
      "\n",
      "## Итоговое положение команд\n",
      "\n",
      "| Место | Команда |\n",
      "|  | Италия |\n",
      "|  | Куба |\n",
      "|  | Бразилия |\n",
      "| **4** | Канада |\n",
      "| **5** | Чехия |\n",
      "| **6** | Нидерланды |\n",
      "| **7** | Мексика |\n"
     ]
    }
   ],
   "source": [
    "%load_ext dotenv\n",
    "%dotenv\n",
    "\n",
    "from langchain_community.llms.ollama import Ollama\n",
    "\n",
    "model = Ollama(model='dolphin-mistral')\n",
    "result = model.generate(prompts=['Hello'])\n",
    "generations = result.generations[0]\n",
    "for generation in generations:\n",
    "    print(generation.text)"
   ],
   "metadata": {
    "collapsed": false,
    "ExecuteTime": {
     "end_time": "2024-02-29T07:49:41.591301Z",
     "start_time": "2024-02-29T07:49:16.918302Z"
    }
   },
   "id": "5e4036a24a3a6757"
  },
  {
   "cell_type": "code",
   "execution_count": null,
   "outputs": [],
   "source": [],
   "metadata": {
    "collapsed": false,
    "ExecuteTime": {
     "start_time": "2024-02-29T07:48:28.100663Z"
    }
   },
   "id": "1e0aa9735fec7bbd"
  }
 ],
 "metadata": {
  "kernelspec": {
   "display_name": "Python 3",
   "language": "python",
   "name": "python3"
  },
  "language_info": {
   "codemirror_mode": {
    "name": "ipython",
    "version": 2
   },
   "file_extension": ".py",
   "mimetype": "text/x-python",
   "name": "python",
   "nbconvert_exporter": "python",
   "pygments_lexer": "ipython2",
   "version": "2.7.6"
  }
 },
 "nbformat": 4,
 "nbformat_minor": 5
}
